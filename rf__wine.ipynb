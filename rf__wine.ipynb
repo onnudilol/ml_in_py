{
 "cells": [
  {
   "cell_type": "markdown",
   "metadata": {},
   "source": [
    "# Bagging with Random Attribute Selection"
   ]
  },
  {
   "cell_type": "code",
   "execution_count": 25,
   "metadata": {
    "collapsed": true
   },
   "outputs": [],
   "source": [
    "import numpy as np\n",
    "from sklearn import tree\n",
    "from sklearn.tree import DecisionTreeRegressor\n",
    "import random\n",
    "from math import sqrt\n",
    "import matplotlib.pyplot as plt\n",
    "import seaborn as sns\n",
    "\n",
    "sns.set()"
   ]
  },
  {
   "cell_type": "code",
   "execution_count": 26,
   "metadata": {
    "collapsed": true
   },
   "outputs": [],
   "source": [
    "# read data into iterable\n",
    "x_list = []\n",
    "labels = []\n",
    "names = []\n",
    "first_line = True\n",
    "data_path = './data/winequality-red.csv'\n",
    "\n",
    "with open(data_path) as data:\n",
    "    \n",
    "    for line in data:\n",
    "        \n",
    "        if first_line:\n",
    "            names = line.strip().split(';')\n",
    "            first_line = False\n",
    "            \n",
    "        else:\n",
    "            # split on semicolon\n",
    "            row = line.strip().split(';')\n",
    "            \n",
    "            # put labels in separate array\n",
    "            labels.append(float(row[-1]))\n",
    "            \n",
    "            # remove label from row\n",
    "            row.pop()\n",
    "            \n",
    "            # convert row to floats\n",
    "            float_row = [float(num) for num in row]\n",
    "            x_list.append(float_row)\n",
    "            \n",
    "n_rows = len(x_list)\n",
    "n_cols = len(x_list[0])"
   ]
  },
  {
   "cell_type": "code",
   "execution_count": 27,
   "metadata": {
    "collapsed": true
   },
   "outputs": [],
   "source": [
    "# take fixed test set 30% of sample\n",
    "\n",
    "# set seed so results are the same each run\n",
    "random.seed(1)\n",
    "\n",
    "n_sample = int(n_rows * 0.30)\n",
    "idx_test = random.sample(range(n_rows), n_sample)\n",
    "idx_test.sort()\n",
    "idx_train = [idx for idx in range(n_rows) if not (idx in idx_test)]\n",
    "\n",
    "# Define test and training attribute and label sets\n",
    "x_train = [x_list[r] for r in idx_train]\n",
    "x_test = [x_list[r] for r in idx_test]\n",
    "y_train = [labels[r] for r in idx_train]\n",
    "y_test = [labels[r] for r in idx_test]"
   ]
  },
  {
   "cell_type": "code",
   "execution_count": 28,
   "metadata": {},
   "outputs": [],
   "source": [
    "# train a series of models on random subsets of the training data\n",
    "# collect the models in a list and check error of composite as list grows\n",
    "\n",
    "# maximum number of models to generate\n",
    "num_trees_max = 30\n",
    "\n",
    "# tree depth - typically at the high end\n",
    "tree_depth = 12\n",
    "\n",
    "# pick how many attributes will be used in each model\n",
    "# authors recommend 1/3 for regression problem\n",
    "n_attr = 4\n",
    "\n",
    "# initialize a list to hold models\n",
    "model_list = []\n",
    "index_list = []\n",
    "pred_list = []\n",
    "n_train_rows = len(y_train)\n",
    "\n",
    "for i_trees in range(num_trees_max):\n",
    "    model_list.append(DecisionTreeRegressor(max_depth=tree_depth))\n",
    "    \n",
    "    # take random sample of attributes\n",
    "    idx_attr = random.sample(range(n_cols), n_attr)\n",
    "    idx_attr.sort()\n",
    "    index_list.append(idx_attr)\n",
    "    \n",
    "    # take a random sample of training rows\n",
    "    idx_rows = []\n",
    "    \n",
    "    for i in range(int(0.5 * n_train_rows)):\n",
    "        idx_rows.append(random.choice(range(len(x_train))))\n",
    "    \n",
    "    idx_rows.sort()\n",
    "    \n",
    "    # build training set\n",
    "    x_rf_train = []\n",
    "    y_rf_train = []\n",
    "    \n",
    "    for i in range(len(idx_rows)):\n",
    "        temp = [x_train[idx_rows[i]][j] for j in idx_attr]\n",
    "        x_rf_train.append(temp)\n",
    "        y_rf_train.append(y_train[idx_rows[i]])\n",
    "        \n",
    "    model_list[-1].fit(x_rf_train, y_rf_train)\n",
    "    \n",
    "    # restrict x_test to attributes selected for training\n",
    "    x_rf_test = []\n",
    "    \n",
    "    for xx in x_test:\n",
    "        temp = [xx[i] for i in idx_attr]\n",
    "        x_rf_test.append(temp)\n",
    "        \n",
    "    latest_out_sample_prediction = model_list[-1].predict(x_rf_test)\n",
    "    pred_list.append(list(latest_out_sample_prediction))"
   ]
  },
  {
   "cell_type": "code",
   "execution_count": 29,
   "metadata": {},
   "outputs": [],
   "source": [
    "# build cumulative prediction from first 'n' models\n",
    "mse = []\n",
    "all_predictions = []\n",
    "\n",
    "for i_models in range(len(model_list)):\n",
    "    # add the first 'i_models' of the predictions and multiply by eps\n",
    "    prediction = []\n",
    "    \n",
    "    for i_pred in range(len(x_test)):\n",
    "        prediction.append(sum([pred_list[i][i_pred] for i in range(i_models + 1)])/(i_models + 1))\n",
    "        \n",
    "    all_predictions.append(prediction)\n",
    "    errors = [(y_test[i] - prediction[i]) for i in range(len(y_test))]\n",
    "    mse.append(sum([e ** 2 for e in errors])/len(y_test))\n",
    "    \n",
    "n_models = [i + 1 for i in range(len(model_list))]"
   ]
  },
  {
   "cell_type": "code",
   "execution_count": 30,
   "metadata": {},
   "outputs": [
    {
     "data": {
      "image/png": "[encoded data removed]",
      "text/plain": [
       "<matplotlib.figure.Figure at 0x7f7550007e48>"
      ]
     },
     "metadata": {},
     "output_type": "display_data"
    }
   ],
   "source": [
    "plt.plot(n_models, mse)\n",
    "plt.axis('tight')\n",
    "plt.xlabel('Number of Trees in Ensemble')\n",
    "plt.ylabel('Mean Squared Error')\n",
    "plt.ylim((0.0, max(mse)))\n",
    "plt.show()"
   ]
  },
  {
   "cell_type": "code",
   "execution_count": 31,
   "metadata": {},
   "outputs": [
    {
     "name": "stdout",
     "output_type": "stream",
     "text": [
      "Minimum mse: 0.42716312699245634\n"
     ]
    }
   ],
   "source": [
    "print(f'Minimum mse: {min(mse)}')"
   ]
  },
  {
   "cell_type": "code",
   "execution_count": null,
   "metadata": {
    "collapsed": true
   },
   "outputs": [],
   "source": []
  }
 ],
 "metadata": {
  "kernelspec": {
   "display_name": "ml_in_py-5Jtq3_sG",
   "language": "python",
   "name": "ml_in_py-5jtq3_sg"
  },
  "language_info": {
   "codemirror_mode": {
    "name": "ipython",
    "version": 3
   },
   "file_extension": ".py",
   "mimetype": "text/x-python",
   "name": "python",
   "nbconvert_exporter": "python",
   "pygments_lexer": "ipython3",
   "version": "3.6.3"
  }
 },
 "nbformat": 4,
 "nbformat_minor": 2
}
