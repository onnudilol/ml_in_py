{
 "cells": [
  {
   "cell_type": "markdown",
   "metadata": {},
   "source": [
    "# Multiclass Classification with Penalized Linear Regression - Classifying Crime Scene Glass Samples"
   ]
  },
  {
   "cell_type": "code",
   "execution_count": 1,
   "metadata": {
    "collapsed": true
   },
   "outputs": [],
   "source": [
    "from math import sqrt, fabs, exp\n",
    "import matplotlib.pyplot as plt\n",
    "from sklearn.linear_model import enet_path\n",
    "from sklearn.metrics import roc_auc_score, roc_curve\n",
    "import numpy as np\n",
    "import seaborn as sns\n",
    "\n",
    "sns.set()"
   ]
  },
  {
   "cell_type": "code",
   "execution_count": 2,
   "metadata": {
    "collapsed": true
   },
   "outputs": [],
   "source": [
    "# arrange data into list for labels and list of lists for attributes\n",
    "x_list = []\n",
    "data_path = './data/glass.data'\n",
    "\n",
    "with open(data_path) as data:\n",
    "    \n",
    "    for line in data:\n",
    "        # split on comma\n",
    "        row = line.strip().split(',')\n",
    "        x_list.append(row)\n",
    "\n",
    "names = ['RI', 'Na', 'Mg', 'Al', 'Si', 'K', 'Ca', 'Ba', 'Fe', 'Type']\n",
    "\n",
    "# Separate attributes and labels\n",
    "x_num = []\n",
    "labels = []\n",
    "\n",
    "for row in x_list:\n",
    "    labels.append(row.pop())\n",
    "    l = len(row)\n",
    "    \n",
    "    # eliminate ID\n",
    "    attr_row = [float(row[i]) for i in range(1, l)]\n",
    "    x_num.append(attr_row)\n",
    "    \n",
    "# number of rows and columns in x matrix\n",
    "n_row = len(x_num)\n",
    "n_col = len(x_num[1])\n",
    "\n",
    "# create one versus all label vectors\n",
    "# get distinct glass tpyes and assign index to each\n",
    "y_one_v_all = []\n",
    "label_set = set(labels)\n",
    "label_list = list(label_set)\n",
    "label_list.sort()\n",
    "n_labels = len(label_list)\n",
    "\n",
    "for i in range(n_row):\n",
    "    y_row = [0.0] * n_labels\n",
    "    index = label_list.index(labels[i])\n",
    "    y_row[index] = 1.0\n",
    "    y_one_v_all.append(y_row)"
   ]
  },
  {
   "cell_type": "code",
   "execution_count": 3,
   "metadata": {
    "collapsed": true
   },
   "outputs": [],
   "source": [
    "# calculate means and variances\n",
    "x_means = []\n",
    "x_sd = []\n",
    "\n",
    "for i in range(n_col):\n",
    "    col = [x_num[j][i] for j in range(n_row)]\n",
    "    mean = sum(col)/n_row\n",
    "    x_means.append(mean)\n",
    "    \n",
    "    col_diff = [(x_num[j][i] - mean) for j in range(n_row)]\n",
    "    sum_sq = sum([col_diff[i] ** 2 for i in range(n_row)])\n",
    "    std_dev = sqrt(sum_sq/n_row)\n",
    "    x_sd.append(std_dev)\n",
    "    \n",
    "# use calculated mean and standard deviation to normalize x_num\n",
    "x_normalized = []\n",
    "\n",
    "for i in range(n_row):\n",
    "    row_normalized = [(x_num[i][j] - x_means[j])/x_sd[j] for j in range(n_col)]\n",
    "    x_normalized.append(row_normalized)\n",
    "\n",
    "# normalize y to center\n",
    "y_means = []\n",
    "y_sd = []\n",
    "\n",
    "for i in range(n_labels):\n",
    "    col = [y_one_v_all[j][i] for j in range(n_row)]\n",
    "    mean = sum(col)/n_row\n",
    "    y_means.append(mean)\n",
    "    \n",
    "    col_diff = [(y_one_v_all[j][i] - mean) for j in range(n_row)]\n",
    "    sum_sq = sum([col_diff[i] ** 2 for i in range(n_row)])\n",
    "    std_dev = sqrt(sum_sq/n_row)\n",
    "    y_sd.append(std_dev)\n",
    "    \n",
    "y_normalized = []\n",
    "\n",
    "for i in range(n_row):\n",
    "    row_normalized = [(y_one_v_all[i][j] - y_means[j])/y_sd[j] for j in range(n_labels)]\n",
    "    y_normalized.append(row_normalized)"
   ]
  },
  {
   "cell_type": "code",
   "execution_count": 4,
   "metadata": {},
   "outputs": [
    {
     "name": "stderr",
     "output_type": "stream",
     "text": [
      "/home/michael/.virtualenvs/ml_in_py-5Jtq3_sG/lib/python3.6/site-packages/sklearn/linear_model/coordinate_descent.py:491: ConvergenceWarning: Objective did not converge. You might want to increase the number of iterations. Fitting data with very small alpha may cause precision problems.\n",
      "  ConvergenceWarning)\n"
     ]
    },
    {
     "data": {
      "image/png": "[encoded data removed]",
      "text/plain": [
       "<matplotlib.figure.Figure at 0x7fd6151cccf8>"
      ]
     },
     "metadata": {},
     "output_type": "display_data"
    }
   ],
   "source": [
    "# number of cross-validation folds\n",
    "n_x_val = 10\n",
    "n_alphas = 100\n",
    "misclass = [0.0] * n_alphas\n",
    "\n",
    "for i_x_val in range(n_x_val):\n",
    "    # Define test and training index sets\n",
    "    idx_test = [a for a in range(n_row) if a % n_x_val == i_x_val % n_x_val]\n",
    "    idx_train = [a for a in range(n_row) if a % n_x_val != i_x_val % n_x_val]\n",
    "    \n",
    "    # Define test and training attribute and label sets\n",
    "    x_train = np.array([x_normalized[r] for r in idx_train])\n",
    "    x_test = np.array([x_normalized[r] for r in idx_test])\n",
    "        \n",
    "    y_train = np.array([y_normalized[r] for r in idx_train])\n",
    "    y_test = np.array([y_normalized[r] for r in idx_test])\n",
    "    labels_test = [labels[r] for r in idx_test]\n",
    "    \n",
    "    # build model for each column in y_train\n",
    "    models = []\n",
    "    len_train = len(y_train)\n",
    "    len_test = n_row - len_train\n",
    "    \n",
    "    for i_model in range(n_labels):\n",
    "        y_temp = np.array([y_train[j][i_model] for j in range(len_train)])\n",
    "        models.append(enet_path(x_train, y_temp, l1_ratio=1.0, fit_intercept=False, eps=0.5e-3, \n",
    "                                n_alphas=n_alphas, return_models=False))\n",
    "        \n",
    "    for i_step in range(1, n_alphas):\n",
    "        # Assemble the predictions for all the models, find largest prediction and calc error\n",
    "        all_predictions = []\n",
    "        \n",
    "        for i_model in range(n_labels):\n",
    "            _, coefs, _ = models[i_model]\n",
    "            pred_temp = list(np.dot(x_test, coefs[:, i_step]))\n",
    "            \n",
    "            # unnormalize the prediction for comparsion\n",
    "            pred_unnorm = [(pred_temp[j] * y_sd[i_model] + y_means[i_model]) for j in range(len(pred_temp))]\n",
    "            all_predictions.append(pred_unnorm)\n",
    "            \n",
    "        predictions = []\n",
    "        \n",
    "        for i in range(len_test):\n",
    "            list_of_predictions = [all_predictions[j][i] for j in range(n_labels)]\n",
    "            idx_max = list_of_predictions.index(max(list_of_predictions))\n",
    "            \n",
    "            if label_list[idx_max] != labels_test[i]:\n",
    "                misclass[i_step] += 1.0\n",
    "                \n",
    "misclass_plot = [misclass[i]/n_row for i in range(1, n_alphas)]\n",
    "plt.plot(misclass_plot)\n",
    "\n",
    "plt.xlabel('Penalty Parameter Steps')\n",
    "plt.ylabel('Misclassification Error Rate')\n",
    "plt.show()\n",
    "        "
   ]
  },
  {
   "cell_type": "code",
   "execution_count": null,
   "metadata": {
    "collapsed": true
   },
   "outputs": [],
   "source": []
  }
 ],
 "metadata": {
  "kernelspec": {
   "display_name": "ml_in_py-5Jtq3_sG",
   "language": "python",
   "name": "ml_in_py-5jtq3_sg"
  },
  "language_info": {
   "codemirror_mode": {
    "name": "ipython",
    "version": 3
   },
   "file_extension": ".py",
   "mimetype": "text/x-python",
   "name": "python",
   "nbconvert_exporter": "python",
   "pygments_lexer": "ipython3",
   "version": "3.6.3"
  }
 },
 "nbformat": 4,
 "nbformat_minor": 2
}
