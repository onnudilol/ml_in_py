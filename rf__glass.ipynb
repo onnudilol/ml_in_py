{
 "cells": [
  {
   "cell_type": "markdown",
   "metadata": {},
   "source": [
    "# Classifying Glass Types Using Random Forests"
   ]
  },
  {
   "cell_type": "code",
   "execution_count": 14,
   "metadata": {
    "collapsed": true
   },
   "outputs": [],
   "source": [
    "from math import sqrt, fabs, exp\n",
    "import matplotlib.pyplot as plt\n",
    "from sklearn.linear_model import enet_path\n",
    "from sklearn.metrics import accuracy_score, confusion_matrix, roc_curve\n",
    "from sklearn.model_selection import train_test_split\n",
    "from sklearn import ensemble\n",
    "import numpy as np\n",
    "import seaborn as sns\n",
    "\n",
    "sns.set()"
   ]
  },
  {
   "cell_type": "code",
   "execution_count": 8,
   "metadata": {
    "collapsed": true
   },
   "outputs": [],
   "source": [
    "# arrange data into list for labels and list of lists for attributes\n",
    "data_path = './data/glass.data'\n",
    "x_list = []\n",
    "\n",
    "with open(data_path) as data:\n",
    "    \n",
    "    for line in data:\n",
    "        # split on comma\n",
    "        row = line.strip().split(',')\n",
    "        x_list.append(row)\n",
    "        \n",
    "glass_names = np.array(['RI', 'Na', 'Mg', 'Al', 'Si', 'K', 'Ca', 'Ba', 'Fe', 'Type'])\n",
    "\n",
    "# Separate attributes and labels\n",
    "x_num = []\n",
    "labels = []\n",
    "\n",
    "for row in x_list:\n",
    "    labels.append(row.pop())\n",
    "    l = len(row)\n",
    "    \n",
    "    # eliminate ID\n",
    "    attr_row = [float(row[i]) for i in range(1, l)]\n",
    "    x_num.append(attr_row)\n",
    "    \n",
    "# number of rows and columns in x matrix\n",
    "n_rows = len(x_num)\n",
    "n_cols = len(x_num[1])\n",
    "\n",
    "# labels and integers from 1 to 7 with no examples of 4\n",
    "# gb requires consecutive integers starting at 0\n",
    "new_labels = []\n",
    "label_set = set(labels)\n",
    "label_list = list(label_set)\n",
    "label_list.sort()\n",
    "n_labels = len(label_list)\n",
    "\n",
    "for l in labels:\n",
    "    index = label_list.index(l)\n",
    "    new_labels.append(index)"
   ]
  },
  {
   "cell_type": "code",
   "execution_count": 9,
   "metadata": {},
   "outputs": [
    {
     "name": "stdout",
     "output_type": "stream",
     "text": [
      "Misclassification Error: 0.2272727272727273\n"
     ]
    }
   ],
   "source": [
    "# startified sampling by labels\n",
    "x_temp = [x_num[i] for i in range(n_rows) if new_labels[i] == 0]\n",
    "y_temp = [new_labels[i] for i in range(n_rows) if new_labels[i] == 0]\n",
    "x_train, x_test, y_train, y_test = train_test_split(x_temp, y_temp, test_size=0.30, random_state=531)\n",
    "\n",
    "for i_label in range(1, len(label_list)):\n",
    "    # segregate x and y according to labels\n",
    "    x_temp = [x_num[i] for i in range(n_rows) if new_labels[i] == i_label]\n",
    "    y_temp = [new_labels[i] for i in range(n_rows) if new_labels[i] == i_label]\n",
    "    \n",
    "    # form train and test sets on segregated subset of examples\n",
    "    x_train_temp, x_test_temp, y_train_temp, y_test_temp = train_test_split(x_temp, y_temp, test_size=0.30, \n",
    "                                                                            random_state=531)\n",
    "    \n",
    "    # accumulate\n",
    "    x_train = np.append(x_train, x_train_temp, axis=0)\n",
    "    x_test = np.append(x_test, x_test_temp, axis=0)\n",
    "    y_train = np.append(y_train, y_train_temp, axis=0)\n",
    "    y_test = np.append(y_test, y_test_temp, axis=0)\n",
    "    \n",
    "misclass_error = []\n",
    "n_tree_list = range(50, 2000, 50)\n",
    "\n",
    "for i_trees in n_tree_list:\n",
    "    depth = None\n",
    "    # try tweaking\n",
    "    max_feat = 4\n",
    "    glass_rf_model = ensemble.RandomForestClassifier(n_estimators=i_trees, max_depth=depth, max_features=max_feat,\n",
    "                                                    oob_score=False, random_state=531)\n",
    "    glass_rf_model.fit(x_train, y_train)\n",
    "    \n",
    "    # accumulate auc on test set\n",
    "    prediction = glass_rf_model.predict(x_test)\n",
    "    correct = accuracy_score(y_test, prediction)\n",
    "    misclass_error.append(1.0 - correct)\n",
    "    \n",
    "print(f'Misclassification Error: {misclass_error[-1]}')"
   ]
  },
  {
   "cell_type": "code",
   "execution_count": 13,
   "metadata": {},
   "outputs": [
    {
     "name": "stdout",
     "output_type": "stream",
     "text": [
      "Confusion Matrix:\n",
      "\n",
      "[[17  2  1  0  0  1]\n",
      " [ 2 18  1  2  0  0]\n",
      " [ 3  0  3  0  0  0]\n",
      " [ 0  0  0  4  0  0]\n",
      " [ 0  1  0  0  2  0]\n",
      " [ 0  2  0  0  0  7]]\n"
     ]
    }
   ],
   "source": [
    "# generate confusion matrix\n",
    "p_list = prediction.tolist()\n",
    "confusion_mat = confusion_matrix(y_test, p_list)\n",
    "print(f'Confusion Matrix:\\n\\n{confusion_mat}')"
   ]
  },
  {
   "cell_type": "code",
   "execution_count": null,
   "metadata": {
    "collapsed": true
   },
   "outputs": [],
   "source": []
  }
 ],
 "metadata": {
  "kernelspec": {
   "display_name": "ml_in_py-5Jtq3_sG",
   "language": "python",
   "name": "ml_in_py-5jtq3_sg"
  },
  "language_info": {
   "codemirror_mode": {
    "name": "ipython",
    "version": 3
   },
   "file_extension": ".py",
   "mimetype": "text/x-python",
   "name": "python",
   "nbconvert_exporter": "python",
   "pygments_lexer": "ipython3",
   "version": "3.6.3"
  }
 },
 "nbformat": 4,
 "nbformat_minor": 2
}
