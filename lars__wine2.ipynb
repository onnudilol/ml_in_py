{
 "cells": [
  {
   "cell_type": "markdown",
   "metadata": {},
   "source": [
    "# LARS Algorithm for Predicting Wine Taste"
   ]
  },
  {
   "cell_type": "code",
   "execution_count": 1,
   "metadata": {
    "collapsed": true
   },
   "outputs": [],
   "source": [
    "import numpy as np\n",
    "from sklearn import datasets, linear_model\n",
    "from math import sqrt\n",
    "import matplotlib.pyplot as plt\n",
    "from sklearn import datasets, linear_model\n",
    "import seaborn as sns\n",
    "\n",
    "sns.set()\n"
   ]
  },
  {
   "cell_type": "code",
   "execution_count": 3,
   "metadata": {},
   "outputs": [],
   "source": [
    "x_list = []\n",
    "labels = []\n",
    "names = []\n",
    "first_line = True\n",
    "data_path = './data/winequality-red.csv'\n",
    "\n",
    "with open(data_path) as data:\n",
    "    \n",
    "    for line in data:\n",
    "        \n",
    "        if first_line:\n",
    "            names = line.strip().split(';')\n",
    "            first_line = False\n",
    "            \n",
    "        else:\n",
    "            # split on semicolon\n",
    "            row = line.strip().split(';')\n",
    "            \n",
    "            # put labels in separate array\n",
    "            labels.append(float(row[-1]))\n",
    "            \n",
    "            # remove label from row\n",
    "            row.pop()\n",
    "            \n",
    "            # convert row into floats\n",
    "            float_row = [float(num) for num in row]\n",
    "            x_list.append(float_row)\n"
   ]
  },
  {
   "cell_type": "code",
   "execution_count": 4,
   "metadata": {},
   "outputs": [],
   "source": [
    "# Normalize columns in x and labels\n",
    "n_rows = len(x_list)\n",
    "n_cols = len(x_list[0])\n",
    "\n",
    "# calculate means and variances\n",
    "x_means = []\n",
    "x_sd = []\n",
    "\n",
    "for i in range(n_cols):\n",
    "    col = [x_list[j][i] for j in range(n_rows)]\n",
    "    mean = sum(col) / n_rows\n",
    "    x_means.append(mean)\n",
    "    \n",
    "    col_diff = [(x_list[j][i] - mean) for j in range(n_rows)]\n",
    "    sum_sq = sum([col_diff[i] ** 2 for i in range(n_rows)])\n",
    "    std_dev = sqrt(sum_sq / n_rows)\n",
    "    x_sd.append(std_dev)\n",
    "    \n",
    "# use calculated mean and standard deviation to normalize x_list\n",
    "x_normalized = []\n",
    "\n",
    "for i in range(n_rows):\n",
    "    row_normalized = [(x_list[i][j] - x_means[j]) / x_sd[j] for j in range(n_cols)]\n",
    "    x_normalized.append(row_normalized)\n",
    "\n",
    "# Normalize labels\n",
    "mean_label = sum(labels) / n_rows\n",
    "sd_label = sqrt(sum([(labels[i] - mean_label) * (labels[i] - mean_label) for i in range(n_rows)]) / n_rows)\n",
    "\n",
    "label_normalized = [(labels[i] - mean_label) / sd_label for i in range(n_rows)]\n"
   ]
  },
  {
   "cell_type": "code",
   "execution_count": 5,
   "metadata": {
    "collapsed": true
   },
   "outputs": [],
   "source": [
    "# intialize a vector of coefficients beta\n",
    "beta = [0.0] * n_cols\n",
    "\n",
    "# initialize matrix of betas at each step\n",
    "beta_mat = []\n",
    "beta_mat.append(list(beta))\n",
    "\n",
    "# number of steps to take\n",
    "n_steps = 350\n",
    "step_size = 0.004\n",
    "\n",
    "for i in range(n_steps):\n",
    "    # calculate residuals\n",
    "    residuals = [0.0] * n_rows\n",
    "    \n",
    "    for j in range(n_rows):\n",
    "        labels_hat = sum([x_normalized[j][k] * beta[k] for k in range(n_cols)])\n",
    "        residuals[j] = label_normalized[j] - labels_hat\n",
    "        \n",
    "    # calculate correlation between attribute columns from normalized wine and residual\n",
    "    corr = [0.0] * n_cols\n",
    "    \n",
    "    for j in range(n_cols):\n",
    "        corr[j] = sum([x_normalized[k][j] * residuals[k] for k in range(n_rows)]) / n_rows\n",
    "        \n",
    "    i_star = 0\n",
    "    corr_star = corr[0]\n",
    "    \n",
    "    for j in range(1, n_cols):\n",
    "        \n",
    "        if abs(corr_star) < abs(corr[j]):\n",
    "            i_star = j\n",
    "            corr_star = corr[j]\n",
    "            \n",
    "    beta[i_star] += step_size * corr_star / abs(corr_star)\n",
    "    beta_mat.append(list(beta))\n"
   ]
  },
  {
   "cell_type": "code",
   "execution_count": 6,
   "metadata": {},
   "outputs": [
    {
     "data": {
      "image/png": "[encoded data removed]",
      "text/plain": [
       "<matplotlib.figure.Figure at 0x7efed1345ef0>"
      ]
     },
     "metadata": {},
     "output_type": "display_data"
    }
   ],
   "source": [
    "for i in range(n_cols):\n",
    "    # plot range of beta values for each attribute\n",
    "    coef_curve = [beta_mat[k][i] for k in range(n_steps)]\n",
    "    x_axis = range(n_steps)\n",
    "    plt.plot(x_axis, coef_curve)\n",
    "    \n",
    "plt.xlabel('Steps Taken')\n",
    "plt.ylabel('Coeffiecient Values')\n",
    "plt.show()\n"
   ]
  },
  {
   "cell_type": "code",
   "execution_count": null,
   "metadata": {
    "collapsed": true
   },
   "outputs": [],
   "source": []
  }
 ],
 "metadata": {
  "kernelspec": {
   "display_name": "ml_in_py-5Jtq3_sG",
   "language": "python",
   "name": "ml_in_py-5jtq3_sg"
  },
  "language_info": {
   "codemirror_mode": {
    "name": "ipython",
    "version": 3
   },
   "file_extension": ".py",
   "mimetype": "text/x-python",
   "name": "python",
   "nbconvert_exporter": "python",
   "pygments_lexer": "ipython3",
   "version": "3.6.3"
  }
 },
 "nbformat": 4,
 "nbformat_minor": 2
}
