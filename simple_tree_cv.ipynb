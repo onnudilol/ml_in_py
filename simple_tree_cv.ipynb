{
 "cells": [
  {
   "cell_type": "markdown",
   "metadata": {},
   "source": [
    "# Cross-Validation at a Range of Tree Depths"
   ]
  },
  {
   "cell_type": "code",
   "execution_count": 1,
   "metadata": {
    "collapsed": true
   },
   "outputs": [],
   "source": [
    "import numpy as np\n",
    "import matplotlib.pyplot as plt\n",
    "from sklearn import tree\n",
    "from sklearn.tree import DecisionTreeRegressor\n",
    "import seaborn as sns\n",
    "\n",
    "sns.set()"
   ]
  },
  {
   "cell_type": "code",
   "execution_count": 2,
   "metadata": {
    "collapsed": true
   },
   "outputs": [],
   "source": [
    "# Build a simple data set with y = x + random\n",
    "n_points = 100\n",
    "\n",
    "# x values for plotting\n",
    "x_plot = [(float(i)/float(n_points) - 0.5) for i in range (n_points + 1)]\n",
    "\n",
    "# x needs to be a list of lists\n",
    "x = [[s] for s in x_plot]\n",
    "\n",
    "# y (labels) has random noise added to x value\n",
    "# set seed\n",
    "np.random.seed(1)\n",
    "y = [s + np.random.normal(scale=0.1) for s in x_plot]\n",
    "\n",
    "n_row = len(x)\n",
    "\n",
    "# fit trees with several different values for depth and use x validation to see which works best\n",
    "depth_list = [1, 2, 3, 4, 5, 6, 7]\n",
    "x_val_MSE = []\n",
    "n_x_val = 10\n",
    "\n",
    "for i_depth in depth_list:\n",
    "    \n",
    "    # build a cross-validation loop to fit tree and evaluate on out of sample data\n",
    "    for i_x_val in range(n_x_val):\n",
    "        \n",
    "        # Define test and training index sets\n",
    "        idx_test = [a for a in range(n_row) if a % n_x_val == i_x_val % n_x_val]\n",
    "        idx_train = [a for a in range(n_row) if a % n_x_val != i_x_val % n_x_val]\n",
    "        \n",
    "        # Define test and training attribute and label sets\n",
    "        x_train = [x[r] for r in idx_train]\n",
    "        x_test = [x[r] for r in idx_test]\n",
    "        y_train = [y[r] for r in idx_train]\n",
    "        y_test = [y[r] for r in idx_test]\n",
    "        \n",
    "        # train tree of appropriate depth and accumulate out of sample (oos) errors\n",
    "        tree_model = DecisionTreeRegressor(max_depth=i_depth)\n",
    "        tree_model.fit(x_train, y_train)\n",
    "        \n",
    "        tree_prediction = tree_model.predict(x_test)\n",
    "        error = [y_test[r] - tree_prediction[r] for r in range(len(y_test))]\n",
    "        \n",
    "        # accumulate squared errors\n",
    "        if i_x_val == 0:\n",
    "            oos_errors = sum([e * e for e in error])\n",
    "        \n",
    "        else:\n",
    "            # accumulate predictions\n",
    "            oos_errors += sum([e * e for e in error])\n",
    "            \n",
    "    # average the squared errors and accumulate by tree depth\n",
    "    mse = oos_errors/n_row\n",
    "    x_val_MSE.append(mse)"
   ]
  },
  {
   "cell_type": "code",
   "execution_count": 4,
   "metadata": {},
   "outputs": [
    {
     "data": {
      "image/png": "[encoded data removed]",
      "text/plain": [
       "<matplotlib.figure.Figure at 0x7f02c53ec908>"
      ]
     },
     "metadata": {},
     "output_type": "display_data"
    }
   ],
   "source": [
    "plt.plot(depth_list, x_val_MSE)\n",
    "plt.axis('tight')\n",
    "plt.xlabel('Tree Depth')\n",
    "plt.ylabel('Mean Squared Error')\n",
    "plt.show()"
   ]
  },
  {
   "cell_type": "code",
   "execution_count": null,
   "metadata": {
    "collapsed": true
   },
   "outputs": [],
   "source": []
  }
 ],
 "metadata": {
  "kernelspec": {
   "display_name": "ml_in_py-5Jtq3_sG",
   "language": "python",
   "name": "ml_in_py-5jtq3_sg"
  },
  "language_info": {
   "codemirror_mode": {
    "name": "ipython",
    "version": 3
   },
   "file_extension": ".py",
   "mimetype": "text/x-python",
   "name": "python",
   "nbconvert_exporter": "python",
   "pygments_lexer": "ipython3",
   "version": "3.6.3"
  }
 },
 "nbformat": 4,
 "nbformat_minor": 2
}
