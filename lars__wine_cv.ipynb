{
 "cells": [
  {
   "cell_type": "markdown",
   "metadata": {},
   "source": [
    "# Fold Cross-Validation to Determine Best Set of Coefficients"
   ]
  },
  {
   "cell_type": "code",
   "execution_count": 1,
   "metadata": {
    "collapsed": true
   },
   "outputs": [],
   "source": [
    "import numpy as np\n",
    "from sklearn import datasets, linear_model\n",
    "from math import sqrt\n",
    "import matplotlib.pyplot as plt\n",
    "import seaborn as sns\n",
    "\n",
    "sns.set()"
   ]
  },
  {
   "cell_type": "code",
   "execution_count": 2,
   "metadata": {
    "collapsed": true
   },
   "outputs": [],
   "source": [
    "x_list = []\n",
    "labels = []\n",
    "names = []\n",
    "first_line = True\n",
    "data_path = './data/winequality-red.csv'\n",
    "\n",
    "with open(data_path) as data:\n",
    "        \n",
    "    for line in data:\n",
    "        \n",
    "        if first_line:\n",
    "            names = line.strip().split(';')\n",
    "            first_line = False\n",
    "            \n",
    "        else:\n",
    "            # split on semicolon\n",
    "            row = line.strip().split(';')\n",
    "            \n",
    "            # put labels in separate array\n",
    "            labels.append(float(row[-1]))\n",
    "            \n",
    "            # remove label from row\n",
    "            row.pop()\n",
    "            \n",
    "            # convert row to floats\n",
    "            float_row = [float(num) for num in row]\n",
    "            x_list.append(float_row)\n",
    "            "
   ]
  },
  {
   "cell_type": "code",
   "execution_count": 3,
   "metadata": {
    "collapsed": true
   },
   "outputs": [],
   "source": [
    "# Normalize columns in x and labels\n",
    "\n",
    "n_rows = len(x_list)\n",
    "n_cols = len(x_list[0])\n",
    "\n",
    "# calculate means and variances\n",
    "x_means = []\n",
    "x_sd = []\n",
    "\n",
    "for i in range(n_cols):\n",
    "    col = [x_list[j][i] for j in range(n_rows)]\n",
    "    mean = sum(col)/n_rows\n",
    "    x_means.append(mean)\n",
    "    \n",
    "    col_diff = [(x_list[j][i] - mean) for j in range(n_rows)]\n",
    "    sum_sq = sum([col_diff[i] ** 2 for i in range(n_rows)])\n",
    "    std_dev = sqrt(sum_sq/n_rows)\n",
    "    x_sd.append(std_dev)\n",
    "\n",
    "# Use calculated mean and standard deviation to normalize x_list\n",
    "\n",
    "x_normalized = []\n",
    "\n",
    "for i in range(n_rows):\n",
    "    row_normalized = [(x_list[i][j] - x_means[j])/x_sd[j] for j in range(n_cols)]\n",
    "    x_normalized.append(row_normalized)\n",
    "    \n",
    "# normalize labels\n",
    "\n",
    "mean_label = sum(labels)/n_rows\n",
    "sd_label = sqrt(sum([(labels[i] - mean_label) * (labels[i] - mean_label) for i in range(n_rows)])/n_rows)\n",
    "\n",
    "label_normalized = [(labels[i] - mean_label)/sd_label for i in range(n_rows)]"
   ]
  },
  {
   "cell_type": "code",
   "execution_count": 4,
   "metadata": {
    "collapsed": true
   },
   "outputs": [],
   "source": [
    "# Build cross-validation loop to determine best coefficient values\n",
    "\n",
    "# number of cross-validation folds\n",
    "n_x_val = 10\n",
    "\n",
    "# number of steps and step size\n",
    "n_steps = 350\n",
    "step_size = 0.004\n",
    "\n",
    "# initialize list for storing errors\n",
    "errors = []\n",
    "\n",
    "for i in range(n_steps):\n",
    "    b = []\n",
    "    errors.append(b)\n",
    "    \n",
    "for i_x_val in range(n_x_val):\n",
    "    \n",
    "    # Define test and training index sets\n",
    "    idx_test = [a for a in range(n_rows) if a % n_x_val == i_x_val * n_x_val]\n",
    "    idx_train = [a for a in range(n_rows) if a % n_x_val != i_x_val * n_x_val]\n",
    "\n",
    "    # Define test and training attributes and label sets\n",
    "    x_train = [x_normalized[r] for r in idx_train]\n",
    "    x_test = [x_normalized[r] for r in idx_test]\n",
    "    label_train = [label_normalized[r] for r in idx_train]\n",
    "    label_test = [label_normalized[r] for r in idx_test]\n",
    "    \n",
    "    # Train LARS regression on training data\n",
    "    n_rows_train = len(idx_train)\n",
    "    n_rows_test = len(idx_test)\n",
    "    \n",
    "    # initialize a vector of coefficients beta\n",
    "    beta  = [0.0] * n_cols\n",
    "    \n",
    "    # initialize a matrix of betas at each step\n",
    "    beta_mat = []\n",
    "    beta_mat.append(list(beta))\n",
    "    \n",
    "    for i_step in range(n_steps):\n",
    "        \n",
    "        # calculate residuals\n",
    "        residuals = [0.0] * n_rows\n",
    "        \n",
    "        for j in range(n_rows_train):\n",
    "            labels_hat = sum([x_train[j][k] * beta[k] for k in range(n_cols)])\n",
    "            residuals[j] = label_train[j] - labels_hat\n",
    "            \n",
    "        # calculate correlation between attribute columns from normalized wine and rseidual\n",
    "        corr = [0.0] * n_cols\n",
    "        \n",
    "        for j in range(n_cols):\n",
    "            corr[j] = sum([x_train[k][j] * residuals[k] for k in range(n_rows_train)])/n_rows_train\n",
    "            \n",
    "        i_star = 0\n",
    "        corr_star = corr[0]\n",
    "        \n",
    "        for j in range(1, n_cols):\n",
    "            \n",
    "            if abs(corr_star) < abs(corr[j]):\n",
    "                i_star = j\n",
    "                corr_star = corr[j]\n",
    "                \n",
    "        beta[i_star] += step_size * corr_star / abs(corr_star)\n",
    "        beta_mat.append(list(beta))\n",
    "        \n",
    "        # Use beta just calculated to predict and accumulate out of sample error - not being used in the calc of beta\n",
    "        for j in range(n_rows_test):\n",
    "            labels_hat = sum([x_test[j][k] * beta[k] for k in range(n_cols)])\n",
    "            err = label_test[j] - labels_hat\n",
    "            errors[i_step].append(err)\n"
   ]
  },
  {
   "cell_type": "code",
   "execution_count": 5,
   "metadata": {},
   "outputs": [
    {
     "name": "stdout",
     "output_type": "stream",
     "text": [
      "Minimum Mean Square Error: 0.5873018933136459\n",
      "Index of Minimum Mean Square Error: 311\n"
     ]
    }
   ],
   "source": [
    "cv_curve = []\n",
    "\n",
    "for err_vect in errors:\n",
    "    mse = sum([x * x for x in err_vect])/len(err_vect)\n",
    "    cv_curve.append(mse)\n",
    "    \n",
    "min_mse = min(cv_curve)\n",
    "min_pt = [i for i in range(len(cv_curve)) if cv_curve[i] == min_mse][0]\n",
    "\n",
    "print(f'Minimum Mean Square Error: {min_mse}')\n",
    "print(f'Index of Minimum Mean Square Error: {min_pt}')"
   ]
  },
  {
   "cell_type": "code",
   "execution_count": 6,
   "metadata": {},
   "outputs": [
    {
     "data": {
      "image/png": "[encoded data removed]",
      "text/plain": [
       "<matplotlib.figure.Figure at 0x7f197d9747b8>"
      ]
     },
     "metadata": {},
     "output_type": "display_data"
    }
   ],
   "source": [
    "x_axis = range(len(cv_curve))\n",
    "plt.plot(x_axis, cv_curve)\n",
    "plt.xlabel('Steps Taken')\n",
    "plt.ylabel('Mean Square Error')\n",
    "plt.show()"
   ]
  },
  {
   "cell_type": "code",
   "execution_count": null,
   "metadata": {
    "collapsed": true
   },
   "outputs": [],
   "source": []
  }
 ],
 "metadata": {
  "kernelspec": {
   "display_name": "ml_in_py-5Jtq3_sG",
   "language": "python",
   "name": "ml_in_py-5jtq3_sg"
  },
  "language_info": {
   "codemirror_mode": {
    "name": "ipython",
    "version": 3
   },
   "file_extension": ".py",
   "mimetype": "text/x-python",
   "name": "python",
   "nbconvert_exporter": "python",
   "pygments_lexer": "ipython3",
   "version": "3.6.3"
  }
 },
 "nbformat": 4,
 "nbformat_minor": 2
}
