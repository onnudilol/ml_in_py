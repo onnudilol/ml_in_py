{
 "cells": [
  {
   "cell_type": "markdown",
   "metadata": {},
   "source": [
    "# Classifying Glass with Gradient Boosting"
   ]
  },
  {
   "cell_type": "code",
   "execution_count": 1,
   "metadata": {
    "collapsed": true
   },
   "outputs": [],
   "source": [
    "from math import sqrt, fabs, exp\n",
    "import matplotlib.pyplot as plt\n",
    "from sklearn.linear_model import enet_path\n",
    "from sklearn.metrics import confusion_matrix, roc_curve, roc_auc_score\n",
    "from sklearn.model_selection import train_test_split\n",
    "from sklearn import ensemble\n",
    "import numpy as np\n",
    "import seaborn as sns\n",
    "\n",
    "sns.set()"
   ]
  },
  {
   "cell_type": "code",
   "execution_count": 2,
   "metadata": {
    "collapsed": true
   },
   "outputs": [],
   "source": [
    "# arrange data into list for labels and list of lists for attributes\n",
    "x_list = []\n",
    "data_path = './data/glass.data'\n",
    "\n",
    "with open(data_path) as data:\n",
    "    \n",
    "    for line in data:\n",
    "        # split on comma\n",
    "        row = line.strip().split(',')\n",
    "        x_list.append(row)\n",
    "        \n",
    "glass_names = np.array(['RI', 'Na', 'Mg', 'Al', 'Si', 'K', 'Ca', 'Ba', 'Fe', 'Type'])\n",
    "\n",
    "# Separate attributes and labels\n",
    "x_num = []\n",
    "labels = []\n",
    "\n",
    "for row in x_list:\n",
    "    labels.append(row.pop())\n",
    "    l = len(row)\n",
    "    # eliminate ID\n",
    "    attr_row = [float(row[i]) for i in range(1, l)]\n",
    "    x_num.append(attr_row)\n",
    "    \n",
    "# number of rows and columns in x matrix\n",
    "n_rows = len(x_num)\n",
    "n_cols = len(x_num[1])\n",
    "\n",
    "# Labels are integers from 1 to 7 with no examples of 4\n",
    "# gb requires consecutive integers starting at 0\n",
    "new_labels = []\n",
    "label_set = set(labels)\n",
    "label_list = list(label_set)\n",
    "label_list.sort()\n",
    "n_labels = len(label_list)\n",
    "\n",
    "for l in labels:\n",
    "    index = label_list.index(l)\n",
    "    new_labels.append(index)"
   ]
  },
  {
   "cell_type": "code",
   "execution_count": 3,
   "metadata": {
    "collapsed": true
   },
   "outputs": [],
   "source": [
    "# startified sampling by labels\n",
    "x_temp = [x_num[i] for i in range(n_rows) if new_labels[i] == 0]\n",
    "y_temp = [new_labels[i] for i in range(n_rows) if new_labels[i] == 0]\n",
    "x_train, x_test, y_train, y_test = train_test_split(x_temp, y_temp, test_size=0.30, random_state=531)\n",
    "\n",
    "for i_label in range(1, len(label_list)):\n",
    "    # segregate x and y according to labels\n",
    "    x_temp = [x_num[i] for i in range(n_rows) if new_labels[i] == i_label]\n",
    "    y_temp = [new_labels[i] for i in range(n_rows) if new_labels[i] == i_label]\n",
    "    \n",
    "    # form train and test sets on segregated subset of examples\n",
    "    x_train_temp, x_test_temp, y_train_temp, y_test_temp = train_test_split(x_temp, y_temp, test_size=0.030,\n",
    "                                                                           random_state=531)\n",
    "    \n",
    "    # accumulate\n",
    "    x_train = np.append(x_train, x_train_temp, axis=0)\n",
    "    x_test = np.append(x_test, x_test_temp, axis=0)\n",
    "    y_train = np.append(y_train, y_train_temp, axis=0)\n",
    "    y_test = np.append(y_test, y_test_temp, axis=0)"
   ]
  },
  {
   "cell_type": "code",
   "execution_count": 4,
   "metadata": {},
   "outputs": [
    {
     "data": {
      "text/plain": [
       "GradientBoostingClassifier(criterion='friedman_mse', init=None,\n",
       "              learning_rate=0.003, loss='deviance', max_depth=3,\n",
       "              max_features=3, max_leaf_nodes=None,\n",
       "              min_impurity_decrease=0.0, min_impurity_split=None,\n",
       "              min_samples_leaf=1, min_samples_split=2,\n",
       "              min_weight_fraction_leaf=0.0, n_estimators=500,\n",
       "              presort='auto', random_state=None, subsample=0.5, verbose=0,\n",
       "              warm_start=False)"
      ]
     },
     "execution_count": 4,
     "metadata": {},
     "output_type": "execute_result"
    }
   ],
   "source": [
    "# instantiate model\n",
    "n_est = 500\n",
    "depth = 3\n",
    "learn_rate = 0.003\n",
    "max_features = 3\n",
    "sub_samp = 0.5\n",
    "glass_gbm_model = ensemble.GradientBoostingClassifier(n_estimators=n_est, max_depth=depth, learning_rate=learn_rate,\n",
    "                                                     max_features=max_features, subsample=sub_samp)\n",
    "\n",
    "# train\n",
    "glass_gbm_model.fit(x_train, y_train)"
   ]
  },
  {
   "cell_type": "code",
   "execution_count": 5,
   "metadata": {
    "collapsed": true
   },
   "outputs": [],
   "source": [
    "# compute auc on test set as function of ensemble size\n",
    "misclass_error = []\n",
    "misclass_best = 1.0\n",
    "predictions = glass_gbm_model.staged_decision_function(x_test)\n",
    "\n",
    "for p in predictions:\n",
    "    misclass = 0\n",
    "    \n",
    "    for i in range(len(p)):\n",
    "        list_p = p[i].tolist()\n",
    "        \n",
    "        if list_p.index(max(list_p)) != y_test[i]:\n",
    "            misclass += 1\n",
    "            \n",
    "    misclass = float(misclass)/len(p)\n",
    "    misclass_error.append(misclass)\n",
    "    \n",
    "    # capture best predictions\n",
    "    if misclass < misclass_best:\n",
    "        misclass_best = misclass\n",
    "        p_best = p\n",
    "        \n",
    "idx_best = misclass_error.index(min(misclass_error))"
   ]
  },
  {
   "cell_type": "code",
   "execution_count": 6,
   "metadata": {},
   "outputs": [
    {
     "name": "stdout",
     "output_type": "stream",
     "text": [
      "Best Misclassification Error: 0.25\n",
      "Number of Trees for Best Misclassification Error: 145\n"
     ]
    }
   ],
   "source": [
    "# print best values\n",
    "print(f'Best Misclassification Error: {misclass_best}')\n",
    "print(f'Number of Trees for Best Misclassification Error: {idx_best}')"
   ]
  },
  {
   "cell_type": "code",
   "execution_count": 7,
   "metadata": {},
   "outputs": [
    {
     "data": {
      "image/png": "[encoded data removed]",
      "text/plain": [
       "<matplotlib.figure.Figure at 0x7fb111e4d978>"
      ]
     },
     "metadata": {},
     "output_type": "display_data"
    }
   ],
   "source": [
    "# plot training deviance and test AUCs vs number of trees in ensemble\n",
    "misclass_error = [100 * mce for mce in misclass_error]\n",
    "plt.figure()\n",
    "plt.plot(range(1, n_est + 1), glass_gbm_model.train_score_, label='Training Set Deviance', linestyle=':')\n",
    "plt.plot(range(1, n_est + 1), misclass_error, label='Test Set Error')\n",
    "plt.legend(loc='upper right')\n",
    "plt.xlabel('Number of Trees in Ensemble')\n",
    "plt.ylabel('Deviance / Classification Error')\n",
    "plt.show()"
   ]
  },
  {
   "cell_type": "code",
   "execution_count": 8,
   "metadata": {},
   "outputs": [
    {
     "data": {
      "image/png": "[encoded data removed]",
      "text/plain": [
       "<matplotlib.figure.Figure at 0x7fb1114e9a90>"
      ]
     },
     "metadata": {},
     "output_type": "display_data"
    }
   ],
   "source": [
    "# Plot feature importance\n",
    "feature_importance = glass_gbm_model.feature_importances_\n",
    "\n",
    "# normalize by max importance\n",
    "feature_importance = feature_importance/feature_importance.max()\n",
    "\n",
    "# plot variable importance\n",
    "idx_sorted = np.argsort(feature_importance)\n",
    "bar_pos = np.arange(idx_sorted.shape[0]) + 0.5\n",
    "plt.barh(bar_pos, feature_importance[idx_sorted], align='center')\n",
    "plt.yticks(bar_pos, glass_names[idx_sorted])\n",
    "plt.xlabel('Variable Importnace')\n",
    "plt.show()"
   ]
  },
  {
   "cell_type": "code",
   "execution_count": 9,
   "metadata": {},
   "outputs": [
    {
     "name": "stdout",
     "output_type": "stream",
     "text": [
      "Confusion Matrix:\n",
      "\n",
      " [[18  3  0  0  0  0]\n",
      " [ 2  1  0  0  0  0]\n",
      " [ 0  1  0  0  0  0]\n",
      " [ 0  1  0  0  0  0]\n",
      " [ 0  0  0  0  1  0]\n",
      " [ 0  0  0  0  0  1]]\n"
     ]
    }
   ],
   "source": [
    "# generate confusion matrix for best prediction\n",
    "p_best_list = p_best.tolist()\n",
    "best_prediction = [r.index(max(r)) for r in p_best_list]\n",
    "confusion_mat = confusion_matrix(y_test, best_prediction)\n",
    "print(f'Confusion Matrix:\\n\\n {confusion_mat}')"
   ]
  },
  {
   "cell_type": "code",
   "execution_count": null,
   "metadata": {
    "collapsed": true
   },
   "outputs": [],
   "source": []
  }
 ],
 "metadata": {
  "kernelspec": {
   "display_name": "ml_in_py-5Jtq3_sG",
   "language": "python",
   "name": "ml_in_py-5jtq3_sg"
  },
  "language_info": {
   "codemirror_mode": {
    "name": "ipython",
    "version": 3
   },
   "file_extension": ".py",
   "mimetype": "text/x-python",
   "name": "python",
   "nbconvert_exporter": "python",
   "pygments_lexer": "ipython3",
   "version": "3.6.3"
  }
 },
 "nbformat": 4,
 "nbformat_minor": 2
}
