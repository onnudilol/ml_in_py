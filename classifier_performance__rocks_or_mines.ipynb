{
 "cells": [
  {
   "cell_type": "markdown",
   "metadata": {},
   "source": [
    "# Measuring Performance for Classifier Trained on Rocks-Versus-Mines"
   ]
  },
  {
   "cell_type": "code",
   "execution_count": 1,
   "metadata": {
    "collapsed": true
   },
   "outputs": [],
   "source": [
    "import random\n",
    "import pprint\n",
    "\n",
    "import requests\n",
    "import numpy as np\n",
    "import pylab as pl\n",
    "from sklearn import datasets, linear_model\n",
    "from sklearn.metrics import roc_curve, auc"
   ]
  },
  {
   "cell_type": "code",
   "execution_count": 2,
   "metadata": {
    "collapsed": true
   },
   "outputs": [],
   "source": [
    "def confusion_matrix(predicted, actual, threshold):\n",
    "    \n",
    "    if len(predicted) != len(actual):\n",
    "        return -1\n",
    "    \n",
    "    true_positive = 0.0\n",
    "    false_positive = 0.0\n",
    "    \n",
    "    true_negative = 0.0\n",
    "    false_negative = 0.0\n",
    "    \n",
    "    for i in range(len(actual)):\n",
    "                \n",
    "        # labels that are 1.0 (positive examples)\n",
    "        if actual[i] > 0.5:\n",
    "                                    \n",
    "            # correctly predicted positive\n",
    "            if predicted[i] > threshold:\n",
    "                true_positive += 1.0\n",
    "                                \n",
    "            #incorrectly predicted negative\n",
    "            else:\n",
    "                false_negative += 1.0\n",
    "                                \n",
    "        # labels that are 0.0 (negative examples)\n",
    "        else:\n",
    "                                                \n",
    "            # correctly predicted negative\n",
    "            if predicted[i] < threshold:\n",
    "                true_negative += 1.0\n",
    "                            \n",
    "            # incorrectly predicted positive\n",
    "            else:\n",
    "                false_positive += 1.0\n",
    "                                                \n",
    "    results = [true_positive, false_negative, false_positive, true_negative]\n",
    "\n",
    "    return results\n",
    "                "
   ]
  },
  {
   "cell_type": "code",
   "execution_count": 3,
   "metadata": {
    "collapsed": true
   },
   "outputs": [],
   "source": [
    "data_path = './data/sonar.all-data'\n",
    "\n",
    "with open(data_path) as data:\n",
    "    \n",
    "    x_list = []\n",
    "    labels = []\n",
    "    \n",
    "    for line in data:\n",
    "        \n",
    "        # split on comma\n",
    "        row = line.strip().split(',')\n",
    "        \n",
    "        # assign label 1.0 for \"M\" and 0.0 for \"R\"\n",
    "        if row[-1] == 'M':\n",
    "            labels.append(0.0)\n",
    "            \n",
    "        else:\n",
    "            labels.append(1.0)\n",
    "            \n",
    "        # remove label from row\n",
    "        row.pop()\n",
    "        \n",
    "        # convert row to floats\n",
    "        float_row = [float(num) for num in row]\n",
    "        \n",
    "        x_list.append(float_row)\n"
   ]
  },
  {
   "cell_type": "code",
   "execution_count": 4,
   "metadata": {},
   "outputs": [
    {
     "name": "stdout",
     "output_type": "stream",
     "text": [
      "shape of x_train array: (138, 60)\n",
      "shape of y_train array: (138,)\n",
      "shape of x_test array: (70, 60)\n",
      "shape of y_test array: (70,)\n"
     ]
    }
   ],
   "source": [
    "# divide attribute matrix and label vector in to training (2/3 of data) and test sets (1/3 of data)\n",
    "indices = range(len(x_list))\n",
    "\n",
    "x_list_test = [x_list[i] for i in indices if i % 3 == 0]\n",
    "x_list_train = [x_list[i] for i in indices if i % 3 != 0]\n",
    "\n",
    "labels_test = [labels[i] for i in indices if i % 3 == 0]\n",
    "labels_train = [labels[i] for i in indices if i % 3 != 0]\n",
    "\n",
    "# form list of list input into numpy arrays to match input class\n",
    "x_train = np.array(x_list_train)\n",
    "y_train = np.array(labels_train)\n",
    "\n",
    "x_test = np.array(x_list_test)\n",
    "y_test = np.array(labels_test)\n",
    "\n",
    "# check shapes\n",
    "print(f'shape of x_train array: {x_train.shape}')\n",
    "print(f'shape of y_train array: {y_train.shape}')\n",
    "\n",
    "print(f'shape of x_test array: {x_test.shape}')\n",
    "print(f'shape of y_test array: {y_test.shape}')\n"
   ]
  },
  {
   "cell_type": "code",
   "execution_count": 5,
   "metadata": {},
   "outputs": [
    {
     "name": "stdout",
     "output_type": "stream",
     "text": [
      "Some values predicted by model: [ 1.10240253  0.57909302  0.61406966  0.63905463  0.68479506], [-0.11094176 -0.12242751  0.22373301 -0.02016858  0.33661919]\n"
     ]
    }
   ],
   "source": [
    "# train linear regression model\n",
    "rocks_vs_mines_model = linear_model.LinearRegression()\n",
    "rocks_vs_mines_model.fit(x_train, y_train)\n",
    "\n",
    "# generate predictions on in-sample error\n",
    "training_predictions = rocks_vs_mines_model.predict(x_train)\n",
    "\n",
    "print(f'Some values predicted by model: {training_predictions[0:5]}, {training_predictions[-6:-1]}')\n"
   ]
  },
  {
   "cell_type": "code",
   "execution_count": 6,
   "metadata": {},
   "outputs": [
    {
     "name": "stdout",
     "output_type": "stream",
     "text": [
      "True positive: 57.0 \tFalse negative: 7.0 \tFalse positive: 6.0 \tTrue negative: 68.0\n"
     ]
    }
   ],
   "source": [
    "# Generate confusion matrix for predictions on training set \n",
    "# (in-sample confusion_mat_train = confusion_matrix(training_predictions, y_train, 0.5))\n",
    "confusion_mat_train =  confusion_matrix(training_predictions, y_train, 0.5)\n",
    "\n",
    "# pick threshold value and generate confusion matrix entries\n",
    "true_positive = confusion_mat_train[0]\n",
    "false_negative = confusion_mat_train[1]\n",
    "\n",
    "false_positive = confusion_mat_train[2]\n",
    "true_negative = confusion_mat_train[3]\n",
    "\n",
    "print(f'True positive: {true_positive} \\tFalse negative: {false_negative} \\tFalse positive: {false_positive} \\tTrue negative: {true_negative}')\n"
   ]
  },
  {
   "cell_type": "code",
   "execution_count": 7,
   "metadata": {},
   "outputs": [
    {
     "name": "stdout",
     "output_type": "stream",
     "text": [
      "True positive: 24.0 \tFalse negative: 9.0 \tFalse positive: 9.0 \tTrue negative: 28.0\n"
     ]
    }
   ],
   "source": [
    "# generate predictions on out-of-sample data\n",
    "test_predictions = rocks_vs_mines_model.predict(x_test)\n",
    "\n",
    "# generate confusion matrix from predictions on out-of-sample-data\n",
    "confusion_mat_test = confusion_matrix(test_predictions, y_test, 0.5)\n",
    "\n",
    "#pick threshold value and generate confusion matrix entries\n",
    "true_positive = confusion_mat_test[0]\n",
    "false_negative = confusion_mat_test[1]\n",
    "\n",
    "false_positive = confusion_mat_test[2]\n",
    "true_negative = confusion_mat_test[3]\n",
    "\n",
    "print(f'True positive: {true_positive} \\tFalse negative: {false_negative} \\tFalse positive: {false_positive} \\tTrue negative: {true_negative}')\n"
   ]
  },
  {
   "cell_type": "code",
   "execution_count": 8,
   "metadata": {},
   "outputs": [
    {
     "name": "stdout",
     "output_type": "stream",
     "text": [
      "AUC for in-sample ROC curve: 0.979518581081081\n"
     ]
    }
   ],
   "source": [
    "# Generate ROC curve for in-sample\n",
    "\n",
    "false_positive_rate, true_positive_rate, thresholds = roc_curve(y_train, training_predictions)\n",
    "roc_auc = auc(false_positive_rate, true_positive_rate)\n",
    "\n",
    "print(f'AUC for in-sample ROC curve: {roc_auc}')"
   ]
  },
  {
   "cell_type": "code",
   "execution_count": 9,
   "metadata": {},
   "outputs": [
    {
     "data": {
      "image/png": "[encoded data removed]",
      "text/plain": [
       "<matplotlib.figure.Figure at 0x7f1b4200c0f0>"
      ]
     },
     "metadata": {},
     "output_type": "display_data"
    }
   ],
   "source": [
    "# Plot ROC curve\n",
    "\n",
    "pl.clf()\n",
    "pl.plot(false_positive_rate, true_positive_rate, label=f'ROC curve (area = {round(roc_auc, 2)})')\n",
    "pl.plot([0, 1], [0, 1], 'k-')\n",
    "pl.xlim([0.0, 1.0])\n",
    "pl.ylim([0.0, 1.0])\n",
    "pl.xlabel('False Positive Rate')\n",
    "pl.ylabel('True Positive Rate')\n",
    "pl.title('In sample ROC rocks versus mines')\n",
    "pl.legend(loc='lower right')\n",
    "pl.show()"
   ]
  },
  {
   "cell_type": "code",
   "execution_count": 10,
   "metadata": {},
   "outputs": [
    {
     "name": "stdout",
     "output_type": "stream",
     "text": [
      "AUC for out-of-sample ROC curve: 0.8484848484848485\n"
     ]
    }
   ],
   "source": [
    "# Generate ROC curve for out-of-sample data\n",
    "false_positive_rate, true_positive_rate, thresholds = roc_curve(y_test, test_predictions)\n",
    "roc_auc = auc(false_positive_rate, true_positive_rate)\n",
    "\n",
    "print(f'AUC for out-of-sample ROC curve: {roc_auc}')"
   ]
  },
  {
   "cell_type": "code",
   "execution_count": 11,
   "metadata": {},
   "outputs": [
    {
     "data": {
      "image/png": "[encoded data removed]",
      "text/plain": [
       "<matplotlib.figure.Figure at 0x7f1b3ff4e518>"
      ]
     },
     "metadata": {},
     "output_type": "display_data"
    }
   ],
   "source": [
    "# Plot ROC curve\n",
    "\n",
    "pl.clf()\n",
    "pl.plot(false_positive_rate, true_positive_rate, label=f'ROC curve (area = {round(roc_auc, 2)})')\n",
    "pl.plot([0, 1], [0, 1], 'k-')\n",
    "pl.xlim([0.0, 1.0])\n",
    "pl.ylim([0.0, 1.0])\n",
    "pl.xlabel('False Positive Rate')\n",
    "pl.ylabel('True Positive Rate')\n",
    "pl.title('Out-of-sample ROC rocks versus mines')\n",
    "pl.legend(loc='lower right')\n",
    "pl.show()"
   ]
  }
 ],
 "metadata": {
  "kernelspec": {
   "display_name": "ml_in_py-5Jtq3_sG",
   "language": "python",
   "name": "ml_in_py-5jtq3_sg"
  },
  "language_info": {
   "codemirror_mode": {
    "name": "ipython",
    "version": 3
   },
   "file_extension": ".py",
   "mimetype": "text/x-python",
   "name": "python",
   "nbconvert_exporter": "python",
   "pygments_lexer": "ipython3",
   "version": "3.6.3"
  }
 },
 "nbformat": 4,
 "nbformat_minor": 2
}
