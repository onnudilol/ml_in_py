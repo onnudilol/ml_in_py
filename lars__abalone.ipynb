{
 "cells": [
  {
   "cell_type": "markdown",
   "metadata": {},
   "source": [
    "# Coding Categorical Variable for Penalized Linear Regression"
   ]
  },
  {
   "cell_type": "code",
   "execution_count": 1,
   "metadata": {
    "collapsed": true
   },
   "outputs": [],
   "source": [
    "from pylab import *\n",
    "import matplotlib.pyplot as plt\n",
    "import seaborn as sns\n",
    "\n",
    "sns.set()"
   ]
  },
  {
   "cell_type": "code",
   "execution_count": 2,
   "metadata": {
    "collapsed": true
   },
   "outputs": [],
   "source": [
    "x_list = []\n",
    "labels = []\n",
    "data_path = './data/abalone.data'\n",
    "\n",
    "with open(data_path) as data:\n",
    "    \n",
    "    for line in data:\n",
    "        # split on semicolon\n",
    "        row = line.strip().split(',')\n",
    "        \n",
    "        # put labels in separate array and remove label from row\n",
    "        labels.append(float(row.pop()))\n",
    "        \n",
    "        # form list of lists of attributes (all strings)\n",
    "        x_list.append(row)"
   ]
  },
  {
   "cell_type": "code",
   "execution_count": 3,
   "metadata": {
    "collapsed": true
   },
   "outputs": [],
   "source": [
    "names = ['Sex', 'Length', 'Diameter', 'Height', 'Whole weight', 'Shucked weight', 'Viscera weight', 'Shell weight', 'Rigns']\n",
    "\n",
    "# code three-valued sex attribute as numeric\n",
    "x_coded = []\n",
    "\n",
    "for row in x_list:\n",
    "    \n",
    "    # first code the three-valued sex variable\n",
    "    coded_sex = [0.0, 0.0]\n",
    "    \n",
    "    if row[0] == 'M':\n",
    "        coded_sex[0] = 1.0\n",
    "        \n",
    "    if row[0] == 'F':\n",
    "        coded_sex[1] = 1.0\n",
    "        \n",
    "    num_row = [float(row[i]) for i in range(1, len(row))]\n",
    "    row_coded = list(coded_sex) + num_row\n",
    "    x_coded.append(row_coded)"
   ]
  },
  {
   "cell_type": "code",
   "execution_count": 4,
   "metadata": {
    "collapsed": true
   },
   "outputs": [],
   "source": [
    "names_coded = ['Sex1', 'Sex2', 'Length', 'Diameter', 'Height', 'Whole weight', 'Shucked weight', 'Viscera weight', 'Shell weight', 'Rigns']\n",
    "\n",
    "n_rows = len(x_coded)\n",
    "n_cols = len(x_coded[1])\n",
    "\n",
    "x_means = []\n",
    "x_sd = []\n",
    "\n",
    "for i in range(n_cols):\n",
    "    col = [x_coded[j][i] for j in range(n_rows)]\n",
    "    mean = sum(col)/n_rows\n",
    "    x_means.append(mean)\n",
    "    \n",
    "    col_diff = [(x_coded[j][i] - mean) for j in range(n_rows)]\n",
    "    sum_sq = sum([col_diff[i] ** 2 for i in range(n_rows)])\n",
    "    std_dev = sqrt(sum_sq/n_rows)\n",
    "    x_sd.append(std_dev)\n",
    "    \n",
    "# use calculated mean and standard deviation to normalize x_coded\n",
    "x_normalized = []\n",
    "\n",
    "for i in range(n_rows):\n",
    "    row_normalized = [(x_coded[i][j] - x_means[j])/x_sd[j] for j in range(n_cols)]\n",
    "    x_normalized.append(row_normalized)\n",
    "    \n",
    "# normalize labels\n",
    "mean_label = sum(labels)/n_rows\n",
    "sd_label = sqrt(sum([(labels[i] - mean_label) * (labels[i] - mean_label) for i in range(n_rows)])/n_rows)\n",
    "label_normalized = [(labels[i] - mean_label)/sd_label for i in range(n_rows)]"
   ]
  },
  {
   "cell_type": "code",
   "execution_count": 5,
   "metadata": {},
   "outputs": [
    {
     "name": "stdout",
     "output_type": "stream",
     "text": [
      "['Shell weight', 'Height', 'Sex2', 'Shucked weight', 'Diameter', 'Sex1']\n"
     ]
    }
   ],
   "source": [
    "# initialize a vector of coefficients beta\n",
    "beta = [0.0] * n_cols\n",
    "\n",
    "# initialize matrix of betas at each step\n",
    "beta_mat = []\n",
    "beta_mat.append(list(beta))\n",
    "\n",
    "# number of steps to take\n",
    "n_steps = 350\n",
    "step_size = 0.004\n",
    "nz_list = []\n",
    "\n",
    "for i in range(n_steps):\n",
    "    #calculate residuals\n",
    "    residuals = [0.0] * n_rows\n",
    "    \n",
    "    for j in range(n_rows):\n",
    "        labels_hat = sum([x_normalized[j][k] * beta[k] for k in range(n_cols)])\n",
    "        residuals[j] = label_normalized[j] - labels_hat\n",
    "        \n",
    "    # calculate correlation between attribute colums from normalized wine and residual\n",
    "    corr = [0.0] * n_cols\n",
    "    \n",
    "    for j in range(n_cols):\n",
    "        corr[j] = sum([x_normalized[k][j] * residuals[k] for k in range(n_rows)])/n_rows\n",
    "        \n",
    "    i_star = 0\n",
    "    corr_star = corr[0]\n",
    "    \n",
    "    for j in range(1, n_cols):\n",
    "        \n",
    "        if abs(corr_star) < abs(corr[j]):\n",
    "            i_star = j\n",
    "            corr_star = corr[j]\n",
    "            \n",
    "    beta[i_star] += step_size * corr_star/abs(corr_star)\n",
    "    beta_mat.append(list(beta))\n",
    "    \n",
    "    nz_beta = [index for index in range(n_cols) if beta[index] != 0.0]\n",
    "    \n",
    "    for q in nz_beta:\n",
    "        \n",
    "        if not (q in nz_list):\n",
    "            nz_list.append(q)\n",
    "\n",
    "name_list = [names_coded[nz_list[i]] for i in range(len(nz_list))]\n",
    "print(name_list)"
   ]
  },
  {
   "cell_type": "code",
   "execution_count": 6,
   "metadata": {},
   "outputs": [
    {
     "data": {
      "image/png": "[encoded data removed]",
      "text/plain": [
       "<matplotlib.figure.Figure at 0x7fdfa7a0f048>"
      ]
     },
     "metadata": {},
     "output_type": "display_data"
    }
   ],
   "source": [
    "for i in range(n_cols):\n",
    "    # plot range of beta values for each attribute\n",
    "    coef_curve = [beta_mat[k][i] for k in range(n_steps)]\n",
    "    x_axis = range(n_steps)\n",
    "    plt.plot(x_axis, coef_curve)\n",
    "    \n",
    "plt.xlabel('Steps Taken')\n",
    "plt.ylabel('Coefficient Values')\n",
    "plt.show()"
   ]
  },
  {
   "cell_type": "code",
   "execution_count": null,
   "metadata": {
    "collapsed": true
   },
   "outputs": [],
   "source": []
  }
 ],
 "metadata": {
  "kernelspec": {
   "display_name": "ml_in_py-5Jtq3_sG",
   "language": "python",
   "name": "ml_in_py-5jtq3_sg"
  },
  "language_info": {
   "codemirror_mode": {
    "name": "ipython",
    "version": 3
   },
   "file_extension": ".py",
   "mimetype": "text/x-python",
   "name": "python",
   "nbconvert_exporter": "python",
   "pygments_lexer": "ipython3",
   "version": "3.6.3"
  }
 },
 "nbformat": 4,
 "nbformat_minor": 2
}
