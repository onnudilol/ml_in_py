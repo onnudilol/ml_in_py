{
 "cells": [
  {
   "cell_type": "markdown",
   "metadata": {},
   "source": [
    "# Converting a Classification Problem to an Ordinary Regression Problem by Assigning Numeric Values to Binary Labels"
   ]
  },
  {
   "cell_type": "code",
   "execution_count": 1,
   "metadata": {
    "collapsed": true
   },
   "outputs": [],
   "source": [
    "import sys\n",
    "from math import sqrt\n",
    "import matplotlib.pyplot as plt\n",
    "import seaborn as sns\n",
    "\n",
    "sns.set()"
   ]
  },
  {
   "cell_type": "code",
   "execution_count": 2,
   "metadata": {
    "collapsed": true
   },
   "outputs": [],
   "source": [
    "# arrange data into list for labels and list of lists for attributes\n",
    "x_list = []\n",
    "x_num = []\n",
    "labels = []\n",
    "data_path = './data/sonar.all-data'\n",
    "\n",
    "with open(data_path) as data:\n",
    "    \n",
    "    for line in data:\n",
    "        #split on comma\n",
    "        row = line.strip().split(',')\n",
    "        x_list.append(row)\n",
    "        \n",
    "# separate labels from attributes, convert from attributes from string to numeric and convert 'M' to 1 and 'R' to 0\n",
    "for row in x_list:\n",
    "    last_col = row.pop()\n",
    "    \n",
    "    if last_col == 'M':\n",
    "        labels.append(1.0)\n",
    "        \n",
    "    else:\n",
    "        labels.append(0.0)\n",
    "        \n",
    "    attr_row = [float(elt) for elt in row]\n",
    "    x_num.append(attr_row)\n",
    "    \n",
    "    # number of rows and columns in x matrix\n",
    "    n_row = len(x_num)\n",
    "    n_col = len(x_num[0])\n",
    "    \n",
    "    # calculate means and variances\n",
    "    x_means = []\n",
    "    x_sd = []\n"
   ]
  },
  {
   "cell_type": "code",
   "execution_count": 3,
   "metadata": {
    "collapsed": true
   },
   "outputs": [],
   "source": [
    "for i in range(n_col):\n",
    "    col = [x_num[j][i] for j in range(n_row)]\n",
    "    mean = sum(col)/n_row\n",
    "    x_means.append(mean)\n",
    "    col_diff = [(x_num[j][i] - mean) for j in range(n_row)]\n",
    "\n",
    "    sum_sq = sum([col_diff[i] ** 2 for i in range(n_row)])\n",
    "    std_dev = sqrt(sum_sq/n_row)\n",
    "    x_sd.append(std_dev)\n"
   ]
  },
  {
   "cell_type": "code",
   "execution_count": 4,
   "metadata": {
    "collapsed": true
   },
   "outputs": [],
   "source": [
    "# use calculated mean and standard deviation to normalize x_num\n",
    "x_normalized = []\n",
    "\n",
    "for i in range(n_row):\n",
    "    row_normalized = [(x_num[i][j] - x_means[j])/x_sd[j] for j in range(n_col)]\n",
    "    x_normalized.append(row_normalized)\n",
    "\n",
    "# normalize labels\n",
    "mean_label = sum(labels)/n_row\n",
    "sd_label = sqrt(sum([(labels[i] - mean_label) * (labels[i] - mean_label) for i in range(n_row)])/n_row)\n",
    "label_normalized = [(labels[i] - mean_label)/sd_label for i in range(n_row)]"
   ]
  },
  {
   "cell_type": "code",
   "execution_count": 5,
   "metadata": {
    "collapsed": true
   },
   "outputs": [],
   "source": [
    "# initialize a vector of coefficients beta\n",
    "beta = [0.0] * n_col\n",
    "\n",
    "# initialiaze matrix of betas at each step\n",
    "beta_mat = []\n",
    "beta_mat.append(list(beta))\n",
    "\n",
    "# number of steps to take\n",
    "n_steps = 350\n",
    "step_size = 0.004\n",
    "nz_list = []\n",
    "\n",
    "for i in range(n_steps):\n",
    "    # calculate residuals\n",
    "    residuals = [0.0] * n_row\n",
    "\n",
    "    for j in range(n_row):\n",
    "        labels_hat = sum([x_normalized[j][k] * beta[k] for k in range(n_col)])\n",
    "        residuals[j] = label_normalized[j] - labels_hat\n",
    "\n",
    "    # calculate correlation between attribute columns from normalized X and residual\n",
    "    corr = [0.0] * n_col\n",
    "\n",
    "    for j in range(n_col):\n",
    "        corr[j] = sum([x_normalized[k][j] * residuals[k] for k in range(n_row)])/n_row\n",
    "\n",
    "    i_star = 0\n",
    "    corr_star = corr[0]\n",
    "\n",
    "    for j in range(1, n_col):\n",
    "\n",
    "        if abs(corr_star) < abs(corr[j]):\n",
    "            i_star = j\n",
    "            corr_star = corr[j]\n",
    "\n",
    "    beta[i_star] += step_size * corr_star / abs(corr_star)\n",
    "    beta_mat.append(list(beta))\n",
    "\n",
    "    nz_beta = [index for index in range(n_col) if beta[index] != 0.0]\n",
    "\n",
    "    for q in nz_beta:\n",
    "\n",
    "        if not (q in nz_list):\n",
    "            nz_list.append(q)"
   ]
  },
  {
   "cell_type": "code",
   "execution_count": 6,
   "metadata": {},
   "outputs": [
    {
     "name": "stdout",
     "output_type": "stream",
     "text": [
      "['V10', 'V48', 'V44', 'V11', 'V35', 'V51', 'V20', 'V3', 'V21', 'V15', 'V43', 'V0', 'V22', 'V45', 'V53', 'V27', 'V30', 'V50', 'V58', 'V46', 'V56', 'V28', 'V39']\n"
     ]
    }
   ],
   "source": [
    "# make up names for columns of x_num\n",
    "names = ['V' + str(i) for i in range(n_col)]\n",
    "name_list = [names[nz_list[i]] for i in range(len(nz_list))]\n",
    "print(name_list)"
   ]
  },
  {
   "cell_type": "code",
   "execution_count": 7,
   "metadata": {},
   "outputs": [
    {
     "data": {
      "image/png": "[encoded data removed]",
      "text/plain": [
       "<matplotlib.figure.Figure at 0x7f38803aa550>"
      ]
     },
     "metadata": {},
     "output_type": "display_data"
    }
   ],
   "source": [
    "for i in range(n_col):\n",
    "    # plot range of beta values for each attribute\n",
    "    coef_curve = [beta_mat[k][i] for k in range(n_steps)]\n",
    "    x_axis = range(n_steps)\n",
    "    plt.plot(x_axis, coef_curve)\n",
    "    \n",
    "plt.xlabel('Steps Taken')\n",
    "plt.ylabel('Coefficient Values')\n",
    "plt.show()"
   ]
  },
  {
   "cell_type": "code",
   "execution_count": null,
   "metadata": {
    "collapsed": true
   },
   "outputs": [],
   "source": []
  }
 ],
 "metadata": {
  "kernelspec": {
   "display_name": "ml_in_py-5Jtq3_sG",
   "language": "python",
   "name": "ml_in_py-5jtq3_sg"
  },
  "language_info": {
   "codemirror_mode": {
    "name": "ipython",
    "version": 3
   },
   "file_extension": ".py",
   "mimetype": "text/x-python",
   "name": "python",
   "nbconvert_exporter": "python",
   "pygments_lexer": "ipython3",
   "version": "3.6.3"
  }
 },
 "nbformat": 4,
 "nbformat_minor": 2
}
