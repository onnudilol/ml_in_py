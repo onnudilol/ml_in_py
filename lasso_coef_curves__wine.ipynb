{
 "cells": [
  {
   "cell_type": "markdown",
   "metadata": {},
   "source": [
    "# Lasso Training on Full Data Set"
   ]
  },
  {
   "cell_type": "code",
   "execution_count": 1,
   "metadata": {
    "collapsed": true
   },
   "outputs": [],
   "source": [
    "import numpy as np\n",
    "from sklearn import datasets, linear_model\n",
    "from sklearn.linear_model import LassoCV\n",
    "from math import sqrt\n",
    "import matplotlib.pyplot as plt\n",
    "import seaborn as sns\n",
    "\n",
    "sns.set()"
   ]
  },
  {
   "cell_type": "code",
   "execution_count": 2,
   "metadata": {
    "collapsed": true
   },
   "outputs": [],
   "source": [
    "# read data into iterable\n",
    "x_list = []\n",
    "labels = []\n",
    "names = []\n",
    "first_line = True\n",
    "data_path = './data/winequality-red.csv'\n",
    "\n",
    "with open(data_path) as data:\n",
    "    \n",
    "    for line in data:\n",
    "        \n",
    "        if first_line:\n",
    "            names = line.strip().split(';')\n",
    "            first_line = False\n",
    "            \n",
    "        else:\n",
    "            # split on semicolon\n",
    "            row = line.strip().split(';')\n",
    "            \n",
    "            # put labels in separate array\n",
    "            labels.append(float(row[-1]))\n",
    "            \n",
    "            # remove label from row\n",
    "            row.pop()\n",
    "            \n",
    "            # convert row into floats\n",
    "            float_row = [float(num) for num in row]\n",
    "            x_list.append(float_row)"
   ]
  },
  {
   "cell_type": "code",
   "execution_count": 3,
   "metadata": {
    "collapsed": true
   },
   "outputs": [],
   "source": [
    "# Normalize columns in x and labels\n",
    "# Note: be careful about normalization.  Some penalized regression packages include it and some don't.\n",
    "n_rows = len(x_list)\n",
    "n_cols = len(x_list[0])\n",
    "\n",
    "# calculate means and variances\n",
    "x_means = []\n",
    "x_sd = []\n",
    "\n",
    "for i in range(n_cols):\n",
    "    col = [x_list[j][i] for j in range(n_rows)]\n",
    "    mean = sum(col)/n_rows\n",
    "    x_means.append(mean)\n",
    "    \n",
    "    col_diff = [(x_list[j][i] - mean) for j in range(n_rows)]\n",
    "    sum_sq = sum([col_diff[i] ** 2 for i in range(n_rows)])\n",
    "    std_dev = sqrt(sum_sq/n_rows)\n",
    "    x_sd.append(std_dev)\n",
    "    \n",
    "# Use calculated mean and standard deviation to normalize x_list\n",
    "x_normalized = []\n",
    "\n",
    "for i in range(n_rows):\n",
    "    row_normalized = [(x_list[i][j] - x_means[j])/x_sd[j] for j in range(n_cols)]\n",
    "    x_normalized.append(row_normalized)\n",
    "    \n",
    "# Normalize labels\n",
    "mean_label = sum(labels)/n_rows\n",
    "sd_label = sqrt(sum([(labels[i] - mean_label) * (labels[i] - mean_label) for i in range(n_rows)])/n_rows)\n",
    "\n",
    "label_normalized = [(labels[i] - mean_label)/sd_label for i in range(n_rows)]"
   ]
  },
  {
   "cell_type": "code",
   "execution_count": 4,
   "metadata": {
    "collapsed": true
   },
   "outputs": [],
   "source": [
    "# convert list of lists to np array for input to sklearn packages\n",
    "\n",
    "# Unnormalized labels\n",
    "y = np.array(labels)\n",
    "\n",
    "# Normalized labels\n",
    "y = np.array(label_normalized)\n",
    "\n",
    "# Unnormalized x\n",
    "x = np.array(x_list)\n",
    "\n",
    "# Normalized x\n",
    "x = np.array(x_normalized)\n",
    "\n"
   ]
  },
  {
   "cell_type": "code",
   "execution_count": 5,
   "metadata": {},
   "outputs": [
    {
     "name": "stderr",
     "output_type": "stream",
     "text": [
      "/home/michael/.virtualenvs/ml_in_py-5Jtq3_sG/lib/python3.6/site-packages/matplotlib/axes/_base.py:2923: UserWarning: Attempted to set non-positive xlimits for log-scale axis; invalid limits will be ignored.\n",
      "  'Attempted to set non-positive xlimits for log-scale axis; '\n"
     ]
    },
    {
     "data": {
      "image/png": "[encoded data removed]",
      "text/plain": [
       "<matplotlib.figure.Figure at 0x7f394b78a358>"
      ]
     },
     "metadata": {},
     "output_type": "display_data"
    }
   ],
   "source": [
    "alphas, coefs, _ = linear_model.lasso_path(x, y, return_models=False)\n",
    "\n",
    "plt.plot(alphas, coefs.T)\n",
    "plt.xlabel('alpha')\n",
    "plt.ylabel('coefficients')\n",
    "plt.axis('tight')\n",
    "plt.semilogx()\n",
    "ax = plt.gca()\n",
    "ax.invert_xaxis()\n",
    "plt.show()"
   ]
  },
  {
   "cell_type": "code",
   "execution_count": 6,
   "metadata": {},
   "outputs": [
    {
     "name": "stdout",
     "output_type": "stream",
     "text": [
      "Attributes Ordered by How Early They Enter the Model: ['\"alcohol\"', '\"volatile acidity\"', '\"sulphates\"', '\"total sulfur dioxide\"', '\"chlorides\"', '\"fixed acidity\"', '\"pH\"', '\"free sulfur dioxide\"', '\"residual sugar\"', '\"citric acid\"', '\"density\"']\n",
      "Best Coefficient Values: [0.0, -0.22773815784738846, -0.0, 0.0, -0.094239023363375432, 0.022151948563543376, -0.099036391332770965, -0.0, -0.067873612822591051, 0.1680410214183069, 0.37509573430881482]\n",
      "Attributes Ordered by Coef Size at Optimum alpha ['\"alcohol\"', '\"volatile acidity\"', '\"sulphates\"', '\"total sulfur dioxide\"', '\"chlorides\"', '\"pH\"', '\"free sulfur dioxide\"']\n"
     ]
    }
   ],
   "source": [
    "n_attr, n_alpha = coefs.shape\n",
    "\n",
    "# find coefficient ordering\n",
    "nz_list = []\n",
    "\n",
    "for i_alpha in range(1, n_alpha):\n",
    "    coef_list = list(coefs[:, i_alpha])\n",
    "    nz_coef = [index for index in range(n_attr) if coef_list[index] != 0.0]\n",
    "    \n",
    "    for q in nz_coef:\n",
    "        \n",
    "        if not (q in nz_list):\n",
    "            nz_list.append(q)\n",
    "            \n",
    "name_list =  [names[nz_list[i]] for i in range(len(nz_list))]\n",
    "print(f'Attributes Ordered by How Early They Enter the Model: {name_list}')\n",
    "\n",
    "# find coefficients corresponding to best alpha value.\n",
    "# alpha value corresponding to normalized x and normalized y is 0.013561387700964642\n",
    "alpha_star = 0.013561387700964642\n",
    "index_lt_alpha_star = [index for index in range(100) if alphas[index] > alpha_star]\n",
    "index_star = max(index_lt_alpha_star)\n",
    "\n",
    "# here's the set of coefficients to deploy\n",
    "coef_star = list(coefs[:, index_star])\n",
    "print(f'Best Coefficient Values: {coef_star}')\n",
    "\n",
    "# The coefficients on normalized attributes give another slightly different ordering\n",
    "abs_coef = [abs(a) for a in coef_star]\n",
    "\n",
    "# sort by magnitude\n",
    "coef_sorted = sorted(abs_coef, reverse=True)\n",
    "\n",
    "idx_coef_size = [abs_coef.index(a) for a in coef_sorted if not (a == 0.0)]\n",
    "\n",
    "names_list_2 = [names[idx_coef_size[i]] for i in range(len(idx_coef_size))]\n",
    "\n",
    "print(f'Attributes Ordered by Coef Size at Optimum alpha {names_list_2}')"
   ]
  },
  {
   "cell_type": "code",
   "execution_count": null,
   "metadata": {
    "collapsed": true
   },
   "outputs": [],
   "source": []
  }
 ],
 "metadata": {
  "kernelspec": {
   "display_name": "ml_in_py-5Jtq3_sG",
   "language": "python",
   "name": "ml_in_py-5jtq3_sg"
  },
  "language_info": {
   "codemirror_mode": {
    "name": "ipython",
    "version": 3
   },
   "file_extension": ".py",
   "mimetype": "text/x-python",
   "name": "python",
   "nbconvert_exporter": "python",
   "pygments_lexer": "ipython3",
   "version": "3.6.3"
  }
 },
 "nbformat": 4,
 "nbformat_minor": 2
}
